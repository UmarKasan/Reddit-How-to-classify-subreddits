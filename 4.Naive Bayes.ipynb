{
 "cells": [
  {
   "cell_type": "markdown",
   "metadata": {},
   "source": [
    "# Naive Bayes\n",
    "Applying Naive Bayes to model"
   ]
  },
  {
   "cell_type": "code",
   "execution_count": 1,
   "metadata": {},
   "outputs": [],
   "source": [
    "import numpy as np\n",
    "import pandas as pd\n",
    "from sklearn.naive_bayes import MultinomialNB\n",
    "from sklearn.metrics import confusion_matrix"
   ]
  },
  {
   "cell_type": "code",
   "execution_count": 2,
   "metadata": {},
   "outputs": [],
   "source": [
    "df = pd.read_csv('.\\merge.csv')"
   ]
  },
  {
   "cell_type": "code",
   "execution_count": 3,
   "metadata": {},
   "outputs": [
    {
     "data": {
      "text/html": [
       "<div>\n",
       "<style scoped>\n",
       "    .dataframe tbody tr th:only-of-type {\n",
       "        vertical-align: middle;\n",
       "    }\n",
       "\n",
       "    .dataframe tbody tr th {\n",
       "        vertical-align: top;\n",
       "    }\n",
       "\n",
       "    .dataframe thead th {\n",
       "        text-align: right;\n",
       "    }\n",
       "</style>\n",
       "<table border=\"1\" class=\"dataframe\">\n",
       "  <thead>\n",
       "    <tr style=\"text-align: right;\">\n",
       "      <th></th>\n",
       "      <th>subreddit</th>\n",
       "      <th>author_fullname</th>\n",
       "      <th>author</th>\n",
       "      <th>selftext</th>\n",
       "      <th>title</th>\n",
       "      <th>selftext_html</th>\n",
       "      <th>preview</th>\n",
       "      <th>text</th>\n",
       "    </tr>\n",
       "  </thead>\n",
       "  <tbody>\n",
       "    <tr>\n",
       "      <th>0</th>\n",
       "      <td>ZeroWaste</td>\n",
       "      <td>t2_6l4z3</td>\n",
       "      <td>AutoModerator</td>\n",
       "      <td>This is the place to comment with any zerowast...</td>\n",
       "      <td>Random Thoughts, Small Questions, and Newbie H...</td>\n",
       "      <td>&amp;lt;!-- SC_OFF --&amp;gt;&amp;lt;div class=\"md\"&amp;gt;&amp;lt...</td>\n",
       "      <td>1</td>\n",
       "      <td>This is the place to comment with any zerowast...</td>\n",
       "    </tr>\n",
       "    <tr>\n",
       "      <th>1</th>\n",
       "      <td>ZeroWaste</td>\n",
       "      <td>t2_6l4z3</td>\n",
       "      <td>AutoModerator</td>\n",
       "      <td>Things don't always go as planned. Sometimes, ...</td>\n",
       "      <td>Rants, Fails, and Bummers — January 26–Februar...</td>\n",
       "      <td>&amp;lt;!-- SC_OFF --&amp;gt;&amp;lt;div class=\"md\"&amp;gt;&amp;lt...</td>\n",
       "      <td>1</td>\n",
       "      <td>Things don't always go as planned. Sometimes, ...</td>\n",
       "    </tr>\n",
       "    <tr>\n",
       "      <th>2</th>\n",
       "      <td>ZeroWaste</td>\n",
       "      <td>t2_4u57xgxy</td>\n",
       "      <td>throwawayoopshehe</td>\n",
       "      <td></td>\n",
       "      <td>thought this was interesting</td>\n",
       "      <td>0</td>\n",
       "      <td>1</td>\n",
       "      <td>thought this was interesting</td>\n",
       "    </tr>\n",
       "    <tr>\n",
       "      <th>3</th>\n",
       "      <td>ZeroWaste</td>\n",
       "      <td>t2_ihrmx</td>\n",
       "      <td>eleonlycostapenny</td>\n",
       "      <td></td>\n",
       "      <td>Cool water saving idea</td>\n",
       "      <td>0</td>\n",
       "      <td>1</td>\n",
       "      <td>Cool water saving idea</td>\n",
       "    </tr>\n",
       "    <tr>\n",
       "      <th>4</th>\n",
       "      <td>ZeroWaste</td>\n",
       "      <td>t2_3zxvt82z</td>\n",
       "      <td>Vish98</td>\n",
       "      <td></td>\n",
       "      <td>My favorate jeans torn at my thigh, so i chang...</td>\n",
       "      <td>0</td>\n",
       "      <td>1</td>\n",
       "      <td>My favorate jeans torn at my thigh, so i cha...</td>\n",
       "    </tr>\n",
       "  </tbody>\n",
       "</table>\n",
       "</div>"
      ],
      "text/plain": [
       "   subreddit author_fullname             author  \\\n",
       "0  ZeroWaste        t2_6l4z3      AutoModerator   \n",
       "1  ZeroWaste        t2_6l4z3      AutoModerator   \n",
       "2  ZeroWaste     t2_4u57xgxy  throwawayoopshehe   \n",
       "3  ZeroWaste        t2_ihrmx  eleonlycostapenny   \n",
       "4  ZeroWaste     t2_3zxvt82z             Vish98   \n",
       "\n",
       "                                            selftext  \\\n",
       "0  This is the place to comment with any zerowast...   \n",
       "1  Things don't always go as planned. Sometimes, ...   \n",
       "2                                                      \n",
       "3                                                      \n",
       "4                                                      \n",
       "\n",
       "                                               title  \\\n",
       "0  Random Thoughts, Small Questions, and Newbie H...   \n",
       "1  Rants, Fails, and Bummers — January 26–Februar...   \n",
       "2                       thought this was interesting   \n",
       "3                             Cool water saving idea   \n",
       "4  My favorate jeans torn at my thigh, so i chang...   \n",
       "\n",
       "                                       selftext_html  preview  \\\n",
       "0  &lt;!-- SC_OFF --&gt;&lt;div class=\"md\"&gt;&lt...        1   \n",
       "1  &lt;!-- SC_OFF --&gt;&lt;div class=\"md\"&gt;&lt...        1   \n",
       "2                                                  0        1   \n",
       "3                                                  0        1   \n",
       "4                                                  0        1   \n",
       "\n",
       "                                                text  \n",
       "0  This is the place to comment with any zerowast...  \n",
       "1  Things don't always go as planned. Sometimes, ...  \n",
       "2                       thought this was interesting  \n",
       "3                             Cool water saving idea  \n",
       "4    My favorate jeans torn at my thigh, so i cha...  "
      ]
     },
     "execution_count": 3,
     "metadata": {},
     "output_type": "execute_result"
    }
   ],
   "source": [
    "df.head()"
   ]
  },
  {
   "cell_type": "code",
   "execution_count": 4,
   "metadata": {},
   "outputs": [
    {
     "data": {
      "text/plain": [
       "ZeroWaste      852\n",
       "environment    233\n",
       "Name: subreddit, dtype: int64"
      ]
     },
     "execution_count": 4,
     "metadata": {},
     "output_type": "execute_result"
    }
   ],
   "source": [
    "df['subreddit'].value_counts()"
   ]
  },
  {
   "cell_type": "code",
   "execution_count": 5,
   "metadata": {},
   "outputs": [],
   "source": [
    "feature = ['author_fullname', 'selftext', 'title', 'preview', 'text']\n",
    "X = df[feature]\n",
    "y = df['subreddit']"
   ]
  },
  {
   "cell_type": "code",
   "execution_count": 6,
   "metadata": {},
   "outputs": [
    {
     "data": {
      "text/html": [
       "<div>\n",
       "<style scoped>\n",
       "    .dataframe tbody tr th:only-of-type {\n",
       "        vertical-align: middle;\n",
       "    }\n",
       "\n",
       "    .dataframe tbody tr th {\n",
       "        vertical-align: top;\n",
       "    }\n",
       "\n",
       "    .dataframe thead th {\n",
       "        text-align: right;\n",
       "    }\n",
       "</style>\n",
       "<table border=\"1\" class=\"dataframe\">\n",
       "  <thead>\n",
       "    <tr style=\"text-align: right;\">\n",
       "      <th></th>\n",
       "      <th>author_fullname</th>\n",
       "      <th>selftext</th>\n",
       "      <th>title</th>\n",
       "      <th>preview</th>\n",
       "      <th>text</th>\n",
       "    </tr>\n",
       "  </thead>\n",
       "  <tbody>\n",
       "    <tr>\n",
       "      <th>0</th>\n",
       "      <td>t2_6l4z3</td>\n",
       "      <td>This is the place to comment with any zerowast...</td>\n",
       "      <td>Random Thoughts, Small Questions, and Newbie H...</td>\n",
       "      <td>1</td>\n",
       "      <td>This is the place to comment with any zerowast...</td>\n",
       "    </tr>\n",
       "    <tr>\n",
       "      <th>1</th>\n",
       "      <td>t2_6l4z3</td>\n",
       "      <td>Things don't always go as planned. Sometimes, ...</td>\n",
       "      <td>Rants, Fails, and Bummers — January 26–Februar...</td>\n",
       "      <td>1</td>\n",
       "      <td>Things don't always go as planned. Sometimes, ...</td>\n",
       "    </tr>\n",
       "    <tr>\n",
       "      <th>2</th>\n",
       "      <td>t2_4u57xgxy</td>\n",
       "      <td></td>\n",
       "      <td>thought this was interesting</td>\n",
       "      <td>1</td>\n",
       "      <td>thought this was interesting</td>\n",
       "    </tr>\n",
       "    <tr>\n",
       "      <th>3</th>\n",
       "      <td>t2_ihrmx</td>\n",
       "      <td></td>\n",
       "      <td>Cool water saving idea</td>\n",
       "      <td>1</td>\n",
       "      <td>Cool water saving idea</td>\n",
       "    </tr>\n",
       "    <tr>\n",
       "      <th>4</th>\n",
       "      <td>t2_3zxvt82z</td>\n",
       "      <td></td>\n",
       "      <td>My favorate jeans torn at my thigh, so i chang...</td>\n",
       "      <td>1</td>\n",
       "      <td>My favorate jeans torn at my thigh, so i cha...</td>\n",
       "    </tr>\n",
       "  </tbody>\n",
       "</table>\n",
       "</div>"
      ],
      "text/plain": [
       "  author_fullname                                           selftext  \\\n",
       "0        t2_6l4z3  This is the place to comment with any zerowast...   \n",
       "1        t2_6l4z3  Things don't always go as planned. Sometimes, ...   \n",
       "2     t2_4u57xgxy                                                      \n",
       "3        t2_ihrmx                                                      \n",
       "4     t2_3zxvt82z                                                      \n",
       "\n",
       "                                               title  preview  \\\n",
       "0  Random Thoughts, Small Questions, and Newbie H...        1   \n",
       "1  Rants, Fails, and Bummers — January 26–Februar...        1   \n",
       "2                       thought this was interesting        1   \n",
       "3                             Cool water saving idea        1   \n",
       "4  My favorate jeans torn at my thigh, so i chang...        1   \n",
       "\n",
       "                                                text  \n",
       "0  This is the place to comment with any zerowast...  \n",
       "1  Things don't always go as planned. Sometimes, ...  \n",
       "2                       thought this was interesting  \n",
       "3                             Cool water saving idea  \n",
       "4    My favorate jeans torn at my thigh, so i cha...  "
      ]
     },
     "execution_count": 6,
     "metadata": {},
     "output_type": "execute_result"
    }
   ],
   "source": [
    "X.head()"
   ]
  },
  {
   "cell_type": "code",
   "execution_count": 7,
   "metadata": {},
   "outputs": [
    {
     "data": {
      "text/plain": [
       "(1085, 5)"
      ]
     },
     "execution_count": 7,
     "metadata": {},
     "output_type": "execute_result"
    }
   ],
   "source": [
    "X.shape"
   ]
  },
  {
   "cell_type": "code",
   "execution_count": 8,
   "metadata": {},
   "outputs": [],
   "source": [
    "from sklearn.model_selection import train_test_split\n",
    "\n",
    "X_train, X_test, y_train, y_test = train_test_split(X,\n",
    "                                                    y,\n",
    "                                                    test_size=0.25,\n",
    "                                                    random_state=42,\n",
    "                                                    stratify=y)"
   ]
  },
  {
   "cell_type": "code",
   "execution_count": 9,
   "metadata": {},
   "outputs": [
    {
     "data": {
      "text/plain": [
       "(813, 5)"
      ]
     },
     "execution_count": 9,
     "metadata": {},
     "output_type": "execute_result"
    }
   ],
   "source": [
    "X_train.shape"
   ]
  },
  {
   "cell_type": "code",
   "execution_count": 10,
   "metadata": {},
   "outputs": [
    {
     "data": {
      "text/plain": [
       "(272, 5)"
      ]
     },
     "execution_count": 10,
     "metadata": {},
     "output_type": "execute_result"
    }
   ],
   "source": [
    "X_test.shape"
   ]
  },
  {
   "cell_type": "code",
   "execution_count": 11,
   "metadata": {},
   "outputs": [
    {
     "data": {
      "text/plain": [
       "(813,)"
      ]
     },
     "execution_count": 11,
     "metadata": {},
     "output_type": "execute_result"
    }
   ],
   "source": [
    "y_train.shape"
   ]
  },
  {
   "cell_type": "code",
   "execution_count": 12,
   "metadata": {},
   "outputs": [
    {
     "data": {
      "text/plain": [
       "(272,)"
      ]
     },
     "execution_count": 12,
     "metadata": {},
     "output_type": "execute_result"
    }
   ],
   "source": [
    "y_test.shape"
   ]
  },
  {
   "cell_type": "code",
   "execution_count": 13,
   "metadata": {},
   "outputs": [],
   "source": [
    "# Import CountVectorizer.\n",
    "from sklearn.feature_extraction.text import CountVectorizer\n",
    "\n",
    "# Instantiate our CountVectorizer.\n",
    "cvec = CountVectorizer(max_features = 500, stop_words = 'english')"
   ]
  },
  {
   "cell_type": "code",
   "execution_count": 14,
   "metadata": {},
   "outputs": [],
   "source": [
    "# Fit our CountVectorizer on the training data and transform training data.\n",
    "# X_train_cvec = pd.DataFrame(cvec.fit_transform(X_train['title']).todense(),\n",
    "#                           columns = cvec.get_feature_names())\n",
    "\n",
    "# X_test_cvec = pd.DataFrame(cvec.transform(X_test['title']).todense(),\n",
    "#                          columns = cvec.get_feature_names())"
   ]
  },
  {
   "cell_type": "code",
   "execution_count": 15,
   "metadata": {},
   "outputs": [],
   "source": [
    "# Transform our testing data with the already-fit CountVectorizer.\n",
    "X_train_cvec_1 = pd.DataFrame(cvec.fit_transform(X_train['text']).todense(),\n",
    "                          columns = cvec.get_feature_names())\n",
    "\n",
    "X_test_cvec_1 = pd.DataFrame(cvec.transform(X_test['text']).todense(),\n",
    "                         columns = cvec.get_feature_names())"
   ]
  },
  {
   "cell_type": "code",
   "execution_count": 16,
   "metadata": {},
   "outputs": [],
   "source": [
    "# X_train_cvec.shape"
   ]
  },
  {
   "cell_type": "code",
   "execution_count": 17,
   "metadata": {},
   "outputs": [
    {
     "data": {
      "text/plain": [
       "(813, 500)"
      ]
     },
     "execution_count": 17,
     "metadata": {},
     "output_type": "execute_result"
    }
   ],
   "source": [
    "X_train_cvec_1.shape"
   ]
  },
  {
   "cell_type": "markdown",
   "metadata": {},
   "source": [
    "### Naive Bayes"
   ]
  },
  {
   "cell_type": "code",
   "execution_count": 18,
   "metadata": {},
   "outputs": [],
   "source": [
    "nb = MultinomialNB()"
   ]
  },
  {
   "cell_type": "code",
   "execution_count": 19,
   "metadata": {},
   "outputs": [],
   "source": [
    "# model = nb.fit(X_train_cvec, y_train)"
   ]
  },
  {
   "cell_type": "code",
   "execution_count": 20,
   "metadata": {},
   "outputs": [],
   "source": [
    "model_1 = nb.fit(X_train_cvec_1, y_train)"
   ]
  },
  {
   "cell_type": "code",
   "execution_count": 21,
   "metadata": {},
   "outputs": [],
   "source": [
    "# model.score(X_train_cvec, y_train)"
   ]
  },
  {
   "cell_type": "code",
   "execution_count": 22,
   "metadata": {},
   "outputs": [
    {
     "data": {
      "text/plain": [
       "0.980319803198032"
      ]
     },
     "execution_count": 22,
     "metadata": {},
     "output_type": "execute_result"
    }
   ],
   "source": [
    "model_1.score(X_train_cvec_1, y_train)"
   ]
  },
  {
   "cell_type": "code",
   "execution_count": 23,
   "metadata": {},
   "outputs": [],
   "source": [
    "# model.score(X_test_cvec, y_test)"
   ]
  },
  {
   "cell_type": "code",
   "execution_count": 24,
   "metadata": {},
   "outputs": [
    {
     "data": {
      "text/plain": [
       "0.9852941176470589"
      ]
     },
     "execution_count": 24,
     "metadata": {},
     "output_type": "execute_result"
    }
   ],
   "source": [
    "model_1.score(X_test_cvec_1, y_test)"
   ]
  },
  {
   "cell_type": "markdown",
   "metadata": {},
   "source": [
    "### Confusion matrics"
   ]
  },
  {
   "cell_type": "code",
   "execution_count": 25,
   "metadata": {},
   "outputs": [],
   "source": [
    "predictions= model_1.predict(X_test_cvec_1)"
   ]
  },
  {
   "cell_type": "code",
   "execution_count": 26,
   "metadata": {},
   "outputs": [
    {
     "data": {
      "text/plain": [
       "array([[212,   2],\n",
       "       [  2,  56]], dtype=int64)"
      ]
     },
     "execution_count": 26,
     "metadata": {},
     "output_type": "execute_result"
    }
   ],
   "source": [
    "confusion_matrix(y_test, predictions)"
   ]
  },
  {
   "cell_type": "code",
   "execution_count": 27,
   "metadata": {},
   "outputs": [],
   "source": [
    "tn, fp, fn, tp = confusion_matrix(y_test, predictions).ravel()"
   ]
  },
  {
   "cell_type": "code",
   "execution_count": 28,
   "metadata": {},
   "outputs": [
    {
     "name": "stdout",
     "output_type": "stream",
     "text": [
      "True Negatives: 212\n",
      "False Positives: 2\n",
      "False Negatives: 2\n",
      "True Positives: 56\n"
     ]
    }
   ],
   "source": [
    "print(\"True Negatives: %s\" % tn)\n",
    "print(\"False Positives: %s\" % fp)\n",
    "print(\"False Negatives: %s\" % fn)\n",
    "print(\"True Positives: %s\" % tp)"
   ]
  }
 ],
 "metadata": {
  "kernelspec": {
   "display_name": "Python 3",
   "language": "python",
   "name": "python3"
  },
  "language_info": {
   "codemirror_mode": {
    "name": "ipython",
    "version": 3
   },
   "file_extension": ".py",
   "mimetype": "text/x-python",
   "name": "python",
   "nbconvert_exporter": "python",
   "pygments_lexer": "ipython3",
   "version": "3.7.4"
  }
 },
 "nbformat": 4,
 "nbformat_minor": 2
}
